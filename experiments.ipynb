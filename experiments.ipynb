{
  "cells": [
    {
      "cell_type": "code",
      "source": [
        "## Data Collection\n",
        "import nltk\n",
        "nltk.download('gutenberg')\n",
        "from nltk.corpus import gutenberg\n",
        "import pandas as pd\n",
        "\n",
        "\n",
        "text = (\n",
        "    gutenberg.raw('shakespeare-macbeth.txt') +\n",
        "    gutenberg.raw('shakespeare-hamlet.txt') +\n",
        "    gutenberg.raw('shakespeare-caesar.txt')\n",
        ").lower()\n",
        "\n",
        "## save to a file\n",
        "with open('shakespeare.txt','w') as file:\n",
        "    file.write(text)"
      ],
      "metadata": {
        "colab": {
          "base_uri": "https://localhost:8080/"
        },
        "id": "dzI9jZoLwP7Z",
        "outputId": "f3b2235a-1f6d-49e5-89fd-737dfa36c519"
      },
      "id": "dzI9jZoLwP7Z",
      "execution_count": 1,
      "outputs": [
        {
          "output_type": "stream",
          "name": "stderr",
          "text": [
            "[nltk_data] Downloading package gutenberg to /root/nltk_data...\n",
            "[nltk_data]   Package gutenberg is already up-to-date!\n"
          ]
        }
      ]
    },
    {
      "cell_type": "code",
      "source": [
        "## Data Preprocessing\n",
        "\n",
        "import numpy as np\n",
        "from tensorflow.keras.preprocessing.text import Tokenizer\n",
        "from tensorflow.keras.preprocessing.sequence import pad_sequences\n",
        "from sklearn.model_selection import train_test_split\n",
        "\n",
        "##load the dataset\n",
        "with open('shakespeare.txt','r') as file:\n",
        "    text=file.read().lower()\n",
        "\n",
        "## Tokenize the text-creating indexes for words\n",
        "tokenizer = Tokenizer(num_words=2000, oov_token=\"<OOV>\")\n",
        "tokenizer.fit_on_texts([text])\n",
        "token_list = tokenizer.texts_to_sequences([text])[0]\n",
        "total_words = min(2000, len(tokenizer.word_index) + 1)\n",
        "total_words"
      ],
      "metadata": {
        "colab": {
          "base_uri": "https://localhost:8080/"
        },
        "id": "lKarXZlNwXHe",
        "outputId": "3a1ade27-d5df-474e-d193-7eb1f28ebaa4"
      },
      "id": "lKarXZlNwXHe",
      "execution_count": 2,
      "outputs": [
        {
          "output_type": "execute_result",
          "data": {
            "text/plain": [
              "2000"
            ]
          },
          "metadata": {},
          "execution_count": 2
        }
      ]
    },
    {
      "cell_type": "code",
      "source": [
        "## create input sequences\n",
        "window_size = 10\n",
        "input_sequences = []\n",
        "\n",
        "for i in range(len(token_list) - window_size):\n",
        "    n_gram_sequence = token_list[i:i + window_size + 1]\n",
        "    input_sequences.append(n_gram_sequence)\n",
        "\n",
        "input_sequences = np.array(input_sequences)"
      ],
      "metadata": {
        "id": "_IMV021NxFah"
      },
      "id": "_IMV021NxFah",
      "execution_count": 3,
      "outputs": []
    },
    {
      "cell_type": "code",
      "source": [
        "##create predicitors and label\n",
        "import tensorflow as tf\n",
        "x,y=input_sequences[:,:-1],input_sequences[:,-1]"
      ],
      "metadata": {
        "id": "DaayKrCKxSEL"
      },
      "id": "DaayKrCKxSEL",
      "execution_count": 4,
      "outputs": []
    },
    {
      "cell_type": "code",
      "source": [
        "y=tf.keras.utils.to_categorical(y,num_classes=total_words)\n",
        "y"
      ],
      "metadata": {
        "colab": {
          "base_uri": "https://localhost:8080/"
        },
        "id": "y8eR7rT_xTO6",
        "outputId": "28756111-b3e7-429b-f358-d936065513b8"
      },
      "id": "y8eR7rT_xTO6",
      "execution_count": 5,
      "outputs": [
        {
          "output_type": "execute_result",
          "data": {
            "text/plain": [
              "array([[0., 0., 0., ..., 0., 0., 0.],\n",
              "       [0., 0., 0., ..., 0., 0., 0.],\n",
              "       [0., 0., 0., ..., 0., 0., 0.],\n",
              "       ...,\n",
              "       [0., 0., 0., ..., 0., 0., 0.],\n",
              "       [0., 1., 0., ..., 0., 0., 0.],\n",
              "       [0., 0., 0., ..., 0., 0., 0.]])"
            ]
          },
          "metadata": {},
          "execution_count": 5
        }
      ]
    },
    {
      "cell_type": "code",
      "source": [
        "# Split the data into training and testing sets\n",
        "x_train, x_test, y_train, y_test = train_test_split(x, y, test_size=0.2, random_state=42, shuffle=True)"
      ],
      "metadata": {
        "id": "ejE91JaOxU0m"
      },
      "id": "ejE91JaOxU0m",
      "execution_count": 6,
      "outputs": []
    },
    {
      "cell_type": "code",
      "source": [
        "# Define early stopping\n",
        "from tensorflow.keras.callbacks import EarlyStopping\n",
        "early_stopping = EarlyStopping(monitor='val_loss', patience=5, restore_best_weights=True)"
      ],
      "metadata": {
        "id": "1cS9Eh6qxWKs"
      },
      "id": "1cS9Eh6qxWKs",
      "execution_count": 7,
      "outputs": []
    },
    {
      "cell_type": "code",
      "source": [
        "from tensorflow.keras.models import Sequential\n",
        "from tensorflow.keras.layers import Embedding, GRU, Dense, Bidirectional, Dropout\n",
        "from tensorflow.keras.regularizers import l2\n",
        "from tensorflow.keras.optimizers import Adam\n",
        "from tensorflow.keras.callbacks import EarlyStopping\n",
        "\n",
        "model = Sequential([\n",
        "    Embedding(input_dim=total_words, output_dim=128, input_length=window_size),\n",
        "    Bidirectional(GRU(64, kernel_regularizer=l2(0.01))),\n",
        "    Dropout(0.4),\n",
        "    Dense(total_words, activation='softmax', kernel_regularizer=l2(0.01))\n",
        "])\n",
        "\n",
        "model.compile(loss='categorical_crossentropy', optimizer=Adam(learning_rate=0.0005), metrics=['accuracy'])\n",
        "model.summary()"
      ],
      "metadata": {
        "colab": {
          "base_uri": "https://localhost:8080/",
          "height": 307
        },
        "id": "E28sGVcgxdZk",
        "outputId": "8f644d6f-391d-41b8-c96b-cd1e2d202645"
      },
      "id": "E28sGVcgxdZk",
      "execution_count": 8,
      "outputs": [
        {
          "output_type": "stream",
          "name": "stderr",
          "text": [
            "/usr/local/lib/python3.11/dist-packages/keras/src/layers/core/embedding.py:90: UserWarning: Argument `input_length` is deprecated. Just remove it.\n",
            "  warnings.warn(\n"
          ]
        },
        {
          "output_type": "display_data",
          "data": {
            "text/plain": [
              "\u001b[1mModel: \"sequential\"\u001b[0m\n"
            ],
            "text/html": [
              "<pre style=\"white-space:pre;overflow-x:auto;line-height:normal;font-family:Menlo,'DejaVu Sans Mono',consolas,'Courier New',monospace\"><span style=\"font-weight: bold\">Model: \"sequential\"</span>\n",
              "</pre>\n"
            ]
          },
          "metadata": {}
        },
        {
          "output_type": "display_data",
          "data": {
            "text/plain": [
              "┏━━━━━━━━━━━━━━━━━━━━━━━━━━━━━━━━━┳━━━━━━━━━━━━━━━━━━━━━━━━┳━━━━━━━━━━━━━━━┓\n",
              "┃\u001b[1m \u001b[0m\u001b[1mLayer (type)                   \u001b[0m\u001b[1m \u001b[0m┃\u001b[1m \u001b[0m\u001b[1mOutput Shape          \u001b[0m\u001b[1m \u001b[0m┃\u001b[1m \u001b[0m\u001b[1m      Param #\u001b[0m\u001b[1m \u001b[0m┃\n",
              "┡━━━━━━━━━━━━━━━━━━━━━━━━━━━━━━━━━╇━━━━━━━━━━━━━━━━━━━━━━━━╇━━━━━━━━━━━━━━━┩\n",
              "│ embedding (\u001b[38;5;33mEmbedding\u001b[0m)           │ ?                      │   \u001b[38;5;34m0\u001b[0m (unbuilt) │\n",
              "├─────────────────────────────────┼────────────────────────┼───────────────┤\n",
              "│ bidirectional (\u001b[38;5;33mBidirectional\u001b[0m)   │ ?                      │   \u001b[38;5;34m0\u001b[0m (unbuilt) │\n",
              "├─────────────────────────────────┼────────────────────────┼───────────────┤\n",
              "│ dropout (\u001b[38;5;33mDropout\u001b[0m)               │ ?                      │             \u001b[38;5;34m0\u001b[0m │\n",
              "├─────────────────────────────────┼────────────────────────┼───────────────┤\n",
              "│ dense (\u001b[38;5;33mDense\u001b[0m)                   │ ?                      │   \u001b[38;5;34m0\u001b[0m (unbuilt) │\n",
              "└─────────────────────────────────┴────────────────────────┴───────────────┘\n"
            ],
            "text/html": [
              "<pre style=\"white-space:pre;overflow-x:auto;line-height:normal;font-family:Menlo,'DejaVu Sans Mono',consolas,'Courier New',monospace\">┏━━━━━━━━━━━━━━━━━━━━━━━━━━━━━━━━━┳━━━━━━━━━━━━━━━━━━━━━━━━┳━━━━━━━━━━━━━━━┓\n",
              "┃<span style=\"font-weight: bold\"> Layer (type)                    </span>┃<span style=\"font-weight: bold\"> Output Shape           </span>┃<span style=\"font-weight: bold\">       Param # </span>┃\n",
              "┡━━━━━━━━━━━━━━━━━━━━━━━━━━━━━━━━━╇━━━━━━━━━━━━━━━━━━━━━━━━╇━━━━━━━━━━━━━━━┩\n",
              "│ embedding (<span style=\"color: #0087ff; text-decoration-color: #0087ff\">Embedding</span>)           │ ?                      │   <span style=\"color: #00af00; text-decoration-color: #00af00\">0</span> (unbuilt) │\n",
              "├─────────────────────────────────┼────────────────────────┼───────────────┤\n",
              "│ bidirectional (<span style=\"color: #0087ff; text-decoration-color: #0087ff\">Bidirectional</span>)   │ ?                      │   <span style=\"color: #00af00; text-decoration-color: #00af00\">0</span> (unbuilt) │\n",
              "├─────────────────────────────────┼────────────────────────┼───────────────┤\n",
              "│ dropout (<span style=\"color: #0087ff; text-decoration-color: #0087ff\">Dropout</span>)               │ ?                      │             <span style=\"color: #00af00; text-decoration-color: #00af00\">0</span> │\n",
              "├─────────────────────────────────┼────────────────────────┼───────────────┤\n",
              "│ dense (<span style=\"color: #0087ff; text-decoration-color: #0087ff\">Dense</span>)                   │ ?                      │   <span style=\"color: #00af00; text-decoration-color: #00af00\">0</span> (unbuilt) │\n",
              "└─────────────────────────────────┴────────────────────────┴───────────────┘\n",
              "</pre>\n"
            ]
          },
          "metadata": {}
        },
        {
          "output_type": "display_data",
          "data": {
            "text/plain": [
              "\u001b[1m Total params: \u001b[0m\u001b[38;5;34m0\u001b[0m (0.00 B)\n"
            ],
            "text/html": [
              "<pre style=\"white-space:pre;overflow-x:auto;line-height:normal;font-family:Menlo,'DejaVu Sans Mono',consolas,'Courier New',monospace\"><span style=\"font-weight: bold\"> Total params: </span><span style=\"color: #00af00; text-decoration-color: #00af00\">0</span> (0.00 B)\n",
              "</pre>\n"
            ]
          },
          "metadata": {}
        },
        {
          "output_type": "display_data",
          "data": {
            "text/plain": [
              "\u001b[1m Trainable params: \u001b[0m\u001b[38;5;34m0\u001b[0m (0.00 B)\n"
            ],
            "text/html": [
              "<pre style=\"white-space:pre;overflow-x:auto;line-height:normal;font-family:Menlo,'DejaVu Sans Mono',consolas,'Courier New',monospace\"><span style=\"font-weight: bold\"> Trainable params: </span><span style=\"color: #00af00; text-decoration-color: #00af00\">0</span> (0.00 B)\n",
              "</pre>\n"
            ]
          },
          "metadata": {}
        },
        {
          "output_type": "display_data",
          "data": {
            "text/plain": [
              "\u001b[1m Non-trainable params: \u001b[0m\u001b[38;5;34m0\u001b[0m (0.00 B)\n"
            ],
            "text/html": [
              "<pre style=\"white-space:pre;overflow-x:auto;line-height:normal;font-family:Menlo,'DejaVu Sans Mono',consolas,'Courier New',monospace\"><span style=\"font-weight: bold\"> Non-trainable params: </span><span style=\"color: #00af00; text-decoration-color: #00af00\">0</span> (0.00 B)\n",
              "</pre>\n"
            ]
          },
          "metadata": {}
        }
      ]
    },
    {
      "cell_type": "code",
      "source": [
        "## Train the model\n",
        "history=model.fit(x_train,y_train,\n",
        "                  epochs=50,\n",
        "                  validation_data=(x_test,y_test),\n",
        "                  verbose=1,\n",
        "                  batch_size=32,\n",
        "                  callbacks=[early_stopping],)"
      ],
      "metadata": {
        "colab": {
          "base_uri": "https://localhost:8080/"
        },
        "id": "SCddXpOwxfPA",
        "outputId": "e98d7695-a8a0-4c32-984a-fb3d80700b33"
      },
      "id": "SCddXpOwxfPA",
      "execution_count": 9,
      "outputs": [
        {
          "output_type": "stream",
          "name": "stdout",
          "text": [
            "Epoch 1/50\n",
            "\u001b[1m1702/1702\u001b[0m \u001b[32m━━━━━━━━━━━━━━━━━━━━\u001b[0m\u001b[37m\u001b[0m \u001b[1m21s\u001b[0m 9ms/step - accuracy: 0.1096 - loss: 7.0791 - val_accuracy: 0.1125 - val_loss: 5.9282\n",
            "Epoch 2/50\n",
            "\u001b[1m1702/1702\u001b[0m \u001b[32m━━━━━━━━━━━━━━━━━━━━\u001b[0m\u001b[37m\u001b[0m \u001b[1m17s\u001b[0m 8ms/step - accuracy: 0.1138 - loss: 5.9502 - val_accuracy: 0.1125 - val_loss: 5.9241\n",
            "Epoch 3/50\n",
            "\u001b[1m1702/1702\u001b[0m \u001b[32m━━━━━━━━━━━━━━━━━━━━\u001b[0m\u001b[37m\u001b[0m \u001b[1m22s\u001b[0m 9ms/step - accuracy: 0.1133 - loss: 5.9358 - val_accuracy: 0.1125 - val_loss: 5.9129\n",
            "Epoch 4/50\n",
            "\u001b[1m1702/1702\u001b[0m \u001b[32m━━━━━━━━━━━━━━━━━━━━\u001b[0m\u001b[37m\u001b[0m \u001b[1m15s\u001b[0m 9ms/step - accuracy: 0.1115 - loss: 5.9447 - val_accuracy: 0.1125 - val_loss: 5.9196\n",
            "Epoch 5/50\n",
            "\u001b[1m1702/1702\u001b[0m \u001b[32m━━━━━━━━━━━━━━━━━━━━\u001b[0m\u001b[37m\u001b[0m \u001b[1m20s\u001b[0m 8ms/step - accuracy: 0.1135 - loss: 5.9203 - val_accuracy: 0.1125 - val_loss: 5.9148\n",
            "Epoch 6/50\n",
            "\u001b[1m1702/1702\u001b[0m \u001b[32m━━━━━━━━━━━━━━━━━━━━\u001b[0m\u001b[37m\u001b[0m \u001b[1m21s\u001b[0m 9ms/step - accuracy: 0.1151 - loss: 5.9161 - val_accuracy: 0.1125 - val_loss: 5.9119\n",
            "Epoch 7/50\n",
            "\u001b[1m1702/1702\u001b[0m \u001b[32m━━━━━━━━━━━━━━━━━━━━\u001b[0m\u001b[37m\u001b[0m \u001b[1m21s\u001b[0m 9ms/step - accuracy: 0.1131 - loss: 5.9242 - val_accuracy: 0.1125 - val_loss: 5.9067\n",
            "Epoch 8/50\n",
            "\u001b[1m1702/1702\u001b[0m \u001b[32m━━━━━━━━━━━━━━━━━━━━\u001b[0m\u001b[37m\u001b[0m \u001b[1m14s\u001b[0m 8ms/step - accuracy: 0.1144 - loss: 5.9094 - val_accuracy: 0.1125 - val_loss: 5.9062\n",
            "Epoch 9/50\n",
            "\u001b[1m1702/1702\u001b[0m \u001b[32m━━━━━━━━━━━━━━━━━━━━\u001b[0m\u001b[37m\u001b[0m \u001b[1m21s\u001b[0m 9ms/step - accuracy: 0.1170 - loss: 5.9002 - val_accuracy: 0.1125 - val_loss: 5.9052\n",
            "Epoch 10/50\n",
            "\u001b[1m1702/1702\u001b[0m \u001b[32m━━━━━━━━━━━━━━━━━━━━\u001b[0m\u001b[37m\u001b[0m \u001b[1m20s\u001b[0m 9ms/step - accuracy: 0.1157 - loss: 5.8989 - val_accuracy: 0.1125 - val_loss: 5.9029\n",
            "Epoch 11/50\n",
            "\u001b[1m1702/1702\u001b[0m \u001b[32m━━━━━━━━━━━━━━━━━━━━\u001b[0m\u001b[37m\u001b[0m \u001b[1m20s\u001b[0m 8ms/step - accuracy: 0.1145 - loss: 5.9081 - val_accuracy: 0.1125 - val_loss: 5.9038\n",
            "Epoch 12/50\n",
            "\u001b[1m1702/1702\u001b[0m \u001b[32m━━━━━━━━━━━━━━━━━━━━\u001b[0m\u001b[37m\u001b[0m \u001b[1m21s\u001b[0m 8ms/step - accuracy: 0.1141 - loss: 5.8929 - val_accuracy: 0.1125 - val_loss: 5.8941\n",
            "Epoch 13/50\n",
            "\u001b[1m1702/1702\u001b[0m \u001b[32m━━━━━━━━━━━━━━━━━━━━\u001b[0m\u001b[37m\u001b[0m \u001b[1m15s\u001b[0m 9ms/step - accuracy: 0.1147 - loss: 5.8996 - val_accuracy: 0.1125 - val_loss: 5.8940\n",
            "Epoch 14/50\n",
            "\u001b[1m1702/1702\u001b[0m \u001b[32m━━━━━━━━━━━━━━━━━━━━\u001b[0m\u001b[37m\u001b[0m \u001b[1m20s\u001b[0m 9ms/step - accuracy: 0.1145 - loss: 5.8910 - val_accuracy: 0.1125 - val_loss: 5.8884\n",
            "Epoch 15/50\n",
            "\u001b[1m1702/1702\u001b[0m \u001b[32m━━━━━━━━━━━━━━━━━━━━\u001b[0m\u001b[37m\u001b[0m \u001b[1m20s\u001b[0m 9ms/step - accuracy: 0.1155 - loss: 5.8979 - val_accuracy: 0.1125 - val_loss: 5.8929\n",
            "Epoch 16/50\n",
            "\u001b[1m1702/1702\u001b[0m \u001b[32m━━━━━━━━━━━━━━━━━━━━\u001b[0m\u001b[37m\u001b[0m \u001b[1m15s\u001b[0m 9ms/step - accuracy: 0.1140 - loss: 5.8931 - val_accuracy: 0.1125 - val_loss: 5.8830\n",
            "Epoch 17/50\n",
            "\u001b[1m1702/1702\u001b[0m \u001b[32m━━━━━━━━━━━━━━━━━━━━\u001b[0m\u001b[37m\u001b[0m \u001b[1m20s\u001b[0m 9ms/step - accuracy: 0.1153 - loss: 5.8852 - val_accuracy: 0.1125 - val_loss: 5.8824\n",
            "Epoch 18/50\n",
            "\u001b[1m1702/1702\u001b[0m \u001b[32m━━━━━━━━━━━━━━━━━━━━\u001b[0m\u001b[37m\u001b[0m \u001b[1m16s\u001b[0m 9ms/step - accuracy: 0.1131 - loss: 5.8906 - val_accuracy: 0.1125 - val_loss: 5.8817\n",
            "Epoch 19/50\n",
            "\u001b[1m1702/1702\u001b[0m \u001b[32m━━━━━━━━━━━━━━━━━━━━\u001b[0m\u001b[37m\u001b[0m \u001b[1m16s\u001b[0m 9ms/step - accuracy: 0.1147 - loss: 5.8871 - val_accuracy: 0.1125 - val_loss: 5.8777\n",
            "Epoch 20/50\n",
            "\u001b[1m1702/1702\u001b[0m \u001b[32m━━━━━━━━━━━━━━━━━━━━\u001b[0m\u001b[37m\u001b[0m \u001b[1m20s\u001b[0m 9ms/step - accuracy: 0.1128 - loss: 5.8745 - val_accuracy: 0.1125 - val_loss: 5.8768\n",
            "Epoch 21/50\n",
            "\u001b[1m1702/1702\u001b[0m \u001b[32m━━━━━━━━━━━━━━━━━━━━\u001b[0m\u001b[37m\u001b[0m \u001b[1m21s\u001b[0m 9ms/step - accuracy: 0.1128 - loss: 5.8827 - val_accuracy: 0.1125 - val_loss: 5.8720\n",
            "Epoch 22/50\n",
            "\u001b[1m1702/1702\u001b[0m \u001b[32m━━━━━━━━━━━━━━━━━━━━\u001b[0m\u001b[37m\u001b[0m \u001b[1m19s\u001b[0m 8ms/step - accuracy: 0.1156 - loss: 5.8709 - val_accuracy: 0.1125 - val_loss: 5.8776\n",
            "Epoch 23/50\n",
            "\u001b[1m1702/1702\u001b[0m \u001b[32m━━━━━━━━━━━━━━━━━━━━\u001b[0m\u001b[37m\u001b[0m \u001b[1m20s\u001b[0m 8ms/step - accuracy: 0.1165 - loss: 5.8573 - val_accuracy: 0.1125 - val_loss: 5.8730\n",
            "Epoch 24/50\n",
            "\u001b[1m1702/1702\u001b[0m \u001b[32m━━━━━━━━━━━━━━━━━━━━\u001b[0m\u001b[37m\u001b[0m \u001b[1m21s\u001b[0m 9ms/step - accuracy: 0.1122 - loss: 5.8818 - val_accuracy: 0.1125 - val_loss: 5.8738\n",
            "Epoch 25/50\n",
            "\u001b[1m1702/1702\u001b[0m \u001b[32m━━━━━━━━━━━━━━━━━━━━\u001b[0m\u001b[37m\u001b[0m \u001b[1m15s\u001b[0m 9ms/step - accuracy: 0.1159 - loss: 5.8589 - val_accuracy: 0.1125 - val_loss: 5.8696\n",
            "Epoch 26/50\n",
            "\u001b[1m1702/1702\u001b[0m \u001b[32m━━━━━━━━━━━━━━━━━━━━\u001b[0m\u001b[37m\u001b[0m \u001b[1m15s\u001b[0m 9ms/step - accuracy: 0.1122 - loss: 5.8832 - val_accuracy: 0.1125 - val_loss: 5.8763\n",
            "Epoch 27/50\n",
            "\u001b[1m1702/1702\u001b[0m \u001b[32m━━━━━━━━━━━━━━━━━━━━\u001b[0m\u001b[37m\u001b[0m \u001b[1m16s\u001b[0m 9ms/step - accuracy: 0.1133 - loss: 5.8682 - val_accuracy: 0.1125 - val_loss: 5.8680\n",
            "Epoch 28/50\n",
            "\u001b[1m1702/1702\u001b[0m \u001b[32m━━━━━━━━━━━━━━━━━━━━\u001b[0m\u001b[37m\u001b[0m \u001b[1m20s\u001b[0m 9ms/step - accuracy: 0.1149 - loss: 5.8528 - val_accuracy: 0.1125 - val_loss: 5.8687\n",
            "Epoch 29/50\n",
            "\u001b[1m1702/1702\u001b[0m \u001b[32m━━━━━━━━━━━━━━━━━━━━\u001b[0m\u001b[37m\u001b[0m \u001b[1m21s\u001b[0m 9ms/step - accuracy: 0.1113 - loss: 5.8730 - val_accuracy: 0.1125 - val_loss: 5.8620\n",
            "Epoch 30/50\n",
            "\u001b[1m1702/1702\u001b[0m \u001b[32m━━━━━━━━━━━━━━━━━━━━\u001b[0m\u001b[37m\u001b[0m \u001b[1m20s\u001b[0m 9ms/step - accuracy: 0.1146 - loss: 5.8577 - val_accuracy: 0.1125 - val_loss: 5.8536\n",
            "Epoch 31/50\n",
            "\u001b[1m1702/1702\u001b[0m \u001b[32m━━━━━━━━━━━━━━━━━━━━\u001b[0m\u001b[37m\u001b[0m \u001b[1m21s\u001b[0m 9ms/step - accuracy: 0.1142 - loss: 5.8444 - val_accuracy: 0.1125 - val_loss: 5.8389\n",
            "Epoch 32/50\n",
            "\u001b[1m1702/1702\u001b[0m \u001b[32m━━━━━━━━━━━━━━━━━━━━\u001b[0m\u001b[37m\u001b[0m \u001b[1m15s\u001b[0m 9ms/step - accuracy: 0.1138 - loss: 5.8220 - val_accuracy: 0.1125 - val_loss: 5.8176\n",
            "Epoch 33/50\n",
            "\u001b[1m1702/1702\u001b[0m \u001b[32m━━━━━━━━━━━━━━━━━━━━\u001b[0m\u001b[37m\u001b[0m \u001b[1m21s\u001b[0m 9ms/step - accuracy: 0.1135 - loss: 5.8100 - val_accuracy: 0.1112 - val_loss: 5.8438\n",
            "Epoch 34/50\n",
            "\u001b[1m1702/1702\u001b[0m \u001b[32m━━━━━━━━━━━━━━━━━━━━\u001b[0m\u001b[37m\u001b[0m \u001b[1m21s\u001b[0m 9ms/step - accuracy: 0.1110 - loss: 5.8210 - val_accuracy: 0.1125 - val_loss: 5.7893\n",
            "Epoch 35/50\n",
            "\u001b[1m1702/1702\u001b[0m \u001b[32m━━━━━━━━━━━━━━━━━━━━\u001b[0m\u001b[37m\u001b[0m \u001b[1m20s\u001b[0m 9ms/step - accuracy: 0.1103 - loss: 5.7688 - val_accuracy: 0.1115 - val_loss: 5.7582\n",
            "Epoch 36/50\n",
            "\u001b[1m1702/1702\u001b[0m \u001b[32m━━━━━━━━━━━━━━━━━━━━\u001b[0m\u001b[37m\u001b[0m \u001b[1m21s\u001b[0m 9ms/step - accuracy: 0.1177 - loss: 5.7249 - val_accuracy: 0.1148 - val_loss: 5.7391\n",
            "Epoch 37/50\n",
            "\u001b[1m1702/1702\u001b[0m \u001b[32m━━━━━━━━━━━━━━━━━━━━\u001b[0m\u001b[37m\u001b[0m \u001b[1m20s\u001b[0m 9ms/step - accuracy: 0.1172 - loss: 5.7218 - val_accuracy: 0.1161 - val_loss: 5.7364\n",
            "Epoch 38/50\n",
            "\u001b[1m1702/1702\u001b[0m \u001b[32m━━━━━━━━━━━━━━━━━━━━\u001b[0m\u001b[37m\u001b[0m \u001b[1m20s\u001b[0m 8ms/step - accuracy: 0.1173 - loss: 5.7089 - val_accuracy: 0.1172 - val_loss: 5.7145\n",
            "Epoch 39/50\n",
            "\u001b[1m1702/1702\u001b[0m \u001b[32m━━━━━━━━━━━━━━━━━━━━\u001b[0m\u001b[37m\u001b[0m \u001b[1m14s\u001b[0m 8ms/step - accuracy: 0.1198 - loss: 5.6772 - val_accuracy: 0.1110 - val_loss: 5.6930\n",
            "Epoch 40/50\n",
            "\u001b[1m1702/1702\u001b[0m \u001b[32m━━━━━━━━━━━━━━━━━━━━\u001b[0m\u001b[37m\u001b[0m \u001b[1m14s\u001b[0m 8ms/step - accuracy: 0.1178 - loss: 5.6632 - val_accuracy: 0.1152 - val_loss: 5.6724\n",
            "Epoch 41/50\n",
            "\u001b[1m1702/1702\u001b[0m \u001b[32m━━━━━━━━━━━━━━━━━━━━\u001b[0m\u001b[37m\u001b[0m \u001b[1m15s\u001b[0m 9ms/step - accuracy: 0.1197 - loss: 5.6457 - val_accuracy: 0.1164 - val_loss: 5.6690\n",
            "Epoch 42/50\n",
            "\u001b[1m1702/1702\u001b[0m \u001b[32m━━━━━━━━━━━━━━━━━━━━\u001b[0m\u001b[37m\u001b[0m \u001b[1m14s\u001b[0m 8ms/step - accuracy: 0.1189 - loss: 5.6395 - val_accuracy: 0.1173 - val_loss: 5.6655\n",
            "Epoch 43/50\n",
            "\u001b[1m1702/1702\u001b[0m \u001b[32m━━━━━━━━━━━━━━━━━━━━\u001b[0m\u001b[37m\u001b[0m \u001b[1m14s\u001b[0m 8ms/step - accuracy: 0.1234 - loss: 5.6213 - val_accuracy: 0.1184 - val_loss: 5.6553\n",
            "Epoch 44/50\n",
            "\u001b[1m1702/1702\u001b[0m \u001b[32m━━━━━━━━━━━━━━━━━━━━\u001b[0m\u001b[37m\u001b[0m \u001b[1m21s\u001b[0m 9ms/step - accuracy: 0.1250 - loss: 5.6032 - val_accuracy: 0.1212 - val_loss: 5.6463\n",
            "Epoch 45/50\n",
            "\u001b[1m1702/1702\u001b[0m \u001b[32m━━━━━━━━━━━━━━━━━━━━\u001b[0m\u001b[37m\u001b[0m \u001b[1m20s\u001b[0m 8ms/step - accuracy: 0.1243 - loss: 5.6028 - val_accuracy: 0.1211 - val_loss: 5.6405\n",
            "Epoch 46/50\n",
            "\u001b[1m1702/1702\u001b[0m \u001b[32m━━━━━━━━━━━━━━━━━━━━\u001b[0m\u001b[37m\u001b[0m \u001b[1m21s\u001b[0m 9ms/step - accuracy: 0.1265 - loss: 5.6022 - val_accuracy: 0.1240 - val_loss: 5.6395\n",
            "Epoch 47/50\n",
            "\u001b[1m1702/1702\u001b[0m \u001b[32m━━━━━━━━━━━━━━━━━━━━\u001b[0m\u001b[37m\u001b[0m \u001b[1m20s\u001b[0m 9ms/step - accuracy: 0.1293 - loss: 5.5771 - val_accuracy: 0.1233 - val_loss: 5.6340\n",
            "Epoch 48/50\n",
            "\u001b[1m1702/1702\u001b[0m \u001b[32m━━━━━━━━━━━━━━━━━━━━\u001b[0m\u001b[37m\u001b[0m \u001b[1m20s\u001b[0m 9ms/step - accuracy: 0.1305 - loss: 5.5898 - val_accuracy: 0.1214 - val_loss: 5.6447\n",
            "Epoch 49/50\n",
            "\u001b[1m1702/1702\u001b[0m \u001b[32m━━━━━━━━━━━━━━━━━━━━\u001b[0m\u001b[37m\u001b[0m \u001b[1m15s\u001b[0m 9ms/step - accuracy: 0.1283 - loss: 5.5754 - val_accuracy: 0.1235 - val_loss: 5.6270\n",
            "Epoch 50/50\n",
            "\u001b[1m1702/1702\u001b[0m \u001b[32m━━━━━━━━━━━━━━━━━━━━\u001b[0m\u001b[37m\u001b[0m \u001b[1m20s\u001b[0m 9ms/step - accuracy: 0.1300 - loss: 5.5738 - val_accuracy: 0.1250 - val_loss: 5.6256\n"
          ]
        }
      ]
    },
    {
      "cell_type": "code",
      "source": [],
      "metadata": {
        "id": "71puqdI5xh3X"
      },
      "id": "71puqdI5xh3X",
      "execution_count": 9,
      "outputs": []
    }
  ],
  "metadata": {
    "kernelspec": {
      "display_name": "Python 3",
      "name": "python3"
    },
    "language_info": {
      "name": "python",
      "version": "3.11.7"
    },
    "colab": {
      "provenance": [],
      "gpuType": "T4"
    },
    "accelerator": "GPU"
  },
  "nbformat": 4,
  "nbformat_minor": 5
}