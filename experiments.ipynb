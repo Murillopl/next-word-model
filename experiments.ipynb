{
  "cells": [
    {
      "cell_type": "code",
      "execution_count": 1,
      "id": "ApoRITJYps2y",
      "metadata": {
        "colab": {
          "base_uri": "https://localhost:8080/"
        },
        "id": "ApoRITJYps2y",
        "outputId": "5a06b86f-e1cf-45f2-f1ee-c8168ee8b37f"
      },
      "outputs": [
        {
          "name": "stdout",
          "output_type": "stream",
          "text": [
            "Requirement already satisfied: keras-tuner in /usr/local/lib/python3.11/dist-packages (1.4.7)\n",
            "Requirement already satisfied: keras in /usr/local/lib/python3.11/dist-packages (from keras-tuner) (3.8.0)\n",
            "Requirement already satisfied: packaging in /usr/local/lib/python3.11/dist-packages (from keras-tuner) (24.2)\n",
            "Requirement already satisfied: requests in /usr/local/lib/python3.11/dist-packages (from keras-tuner) (2.32.3)\n",
            "Requirement already satisfied: kt-legacy in /usr/local/lib/python3.11/dist-packages (from keras-tuner) (1.0.5)\n",
            "Requirement already satisfied: absl-py in /usr/local/lib/python3.11/dist-packages (from keras->keras-tuner) (1.4.0)\n",
            "Requirement already satisfied: numpy in /usr/local/lib/python3.11/dist-packages (from keras->keras-tuner) (2.0.2)\n",
            "Requirement already satisfied: rich in /usr/local/lib/python3.11/dist-packages (from keras->keras-tuner) (13.9.4)\n",
            "Requirement already satisfied: namex in /usr/local/lib/python3.11/dist-packages (from keras->keras-tuner) (0.1.0)\n",
            "Requirement already satisfied: h5py in /usr/local/lib/python3.11/dist-packages (from keras->keras-tuner) (3.14.0)\n",
            "Requirement already satisfied: optree in /usr/local/lib/python3.11/dist-packages (from keras->keras-tuner) (0.16.0)\n",
            "Requirement already satisfied: ml-dtypes in /usr/local/lib/python3.11/dist-packages (from keras->keras-tuner) (0.4.1)\n",
            "Requirement already satisfied: charset-normalizer<4,>=2 in /usr/local/lib/python3.11/dist-packages (from requests->keras-tuner) (3.4.2)\n",
            "Requirement already satisfied: idna<4,>=2.5 in /usr/local/lib/python3.11/dist-packages (from requests->keras-tuner) (3.10)\n",
            "Requirement already satisfied: urllib3<3,>=1.21.1 in /usr/local/lib/python3.11/dist-packages (from requests->keras-tuner) (2.4.0)\n",
            "Requirement already satisfied: certifi>=2017.4.17 in /usr/local/lib/python3.11/dist-packages (from requests->keras-tuner) (2025.6.15)\n",
            "Requirement already satisfied: typing-extensions>=4.6.0 in /usr/local/lib/python3.11/dist-packages (from optree->keras->keras-tuner) (4.14.0)\n",
            "Requirement already satisfied: markdown-it-py>=2.2.0 in /usr/local/lib/python3.11/dist-packages (from rich->keras->keras-tuner) (3.0.0)\n",
            "Requirement already satisfied: pygments<3.0.0,>=2.13.0 in /usr/local/lib/python3.11/dist-packages (from rich->keras->keras-tuner) (2.19.1)\n",
            "Requirement already satisfied: mdurl~=0.1 in /usr/local/lib/python3.11/dist-packages (from markdown-it-py>=2.2.0->rich->keras->keras-tuner) (0.1.2)\n"
          ]
        },
        {
          "name": "stderr",
          "output_type": "stream",
          "text": [
            "[nltk_data] Downloading package gutenberg to /root/nltk_data...\n",
            "[nltk_data]   Package gutenberg is already up-to-date!\n"
          ]
        }
      ],
      "source": [
        "# Install Keras Tuner\n",
        "!pip install keras-tuner\n",
        "\n",
        "# Imports\n",
        "import tensorflow as tf\n",
        "from tensorflow.keras.preprocessing.text import Tokenizer\n",
        "from tensorflow.keras.preprocessing.sequence import pad_sequences\n",
        "from sklearn.model_selection import train_test_split\n",
        "import re\n",
        "import numpy as np\n",
        "from nltk.corpus import gutenberg\n",
        "import nltk\n",
        "nltk.download('gutenberg')\n",
        "import keras_tuner as kt\n",
        "from tensorflow.keras.models import Sequential\n",
        "from tensorflow.keras.layers import Embedding, LSTM, Dense, Dropout, Bidirectional\n",
        "from tensorflow.keras.optimizers import Adam\n",
        "from tensorflow.keras.callbacks import EarlyStopping, ReduceLROnPlateau\n",
        "import gc"
      ]
    },
    {
      "cell_type": "code",
      "execution_count": 2,
      "id": "cWyfYPhjpvml",
      "metadata": {
        "colab": {
          "base_uri": "https://localhost:8080/"
        },
        "id": "cWyfYPhjpvml",
        "outputId": "aaa417ff-af1a-4cc1-d788-6635db31a4c6"
      },
      "outputs": [
        {
          "name": "stdout",
          "output_type": "stream",
          "text": [
            "Text size (characters): 154219\n",
            "Number of sentences: 2053\n"
          ]
        }
      ],
      "source": [
        "# Load raw text from Hamlet and convert to lowercase\n",
        "text = gutenberg.raw('shakespeare-hamlet.txt').lower()\n",
        "\n",
        "# Remove editorial notes\n",
        "text = re.sub(r'\\[.*?]', '', text)\n",
        "\n",
        "# Normalize whitespace\n",
        "text = re.sub(r'\\s+', ' ', text)\n",
        "\n",
        "# Preserve relevant punctuation (. ! ?)\n",
        "text = re.sub(r'[^\\w\\s.!?]', '', text)\n",
        "\n",
        "# Split into sentences\n",
        "sentences = re.split(r'(?<=[.!?])\\s+', text)\n",
        "\n",
        "# Filter out short sentences\n",
        "sentences = [s.strip() for s in sentences if len(s.strip()) > 5]\n",
        "\n",
        "print(f\"Text size (characters): {len(text)}\")\n",
        "print(f\"Number of sentences: {len(sentences)}\")\n",
        "\n"
      ]
    },
    {
      "cell_type": "code",
      "execution_count": 3,
      "id": "8b8_3UXUp4Z6",
      "metadata": {
        "colab": {
          "base_uri": "https://localhost:8080/"
        },
        "id": "8b8_3UXUp4Z6",
        "outputId": "c18f97b8-c852-4ce4-dad2-fbdb567a4c4b"
      },
      "outputs": [
        {
          "name": "stdout",
          "output_type": "stream",
          "text": [
            "Total words in vocabulary: 4794\n"
          ]
        }
      ],
      "source": [
        "# Tokenize the sentences\n",
        "tokenizer = Tokenizer(num_words=10000, oov_token=\"<OOV>\")\n",
        "tokenizer.fit_on_texts(sentences)\n",
        "total_words = min(10000, len(tokenizer.word_index) + 1)\n",
        "\n",
        "print(f\"Total words in vocabulary: {total_words}\")\n"
      ]
    },
    {
      "cell_type": "code",
      "execution_count": 4,
      "id": "1sWs-sgop9an",
      "metadata": {
        "id": "1sWs-sgop9an"
      },
      "outputs": [],
      "source": [
        "# Function to create dataset with a sliding window\n",
        "def create_dataset(sentences, window_size, batch_size):\n",
        "    sequences = tokenizer.texts_to_sequences(sentences)\n",
        "    flat_sequences = [item for sublist in sequences for item in sublist]\n",
        "\n",
        "    inputs = []\n",
        "    outputs = []\n",
        "    for i in range(len(flat_sequences) - window_size):\n",
        "        inputs.append(flat_sequences[i:i+window_size])\n",
        "        outputs.append(flat_sequences[i+window_size])\n",
        "\n",
        "    dataset = tf.data.Dataset.from_tensor_slices((inputs, outputs))\n",
        "    dataset = dataset.shuffle(10000).repeat().batch(batch_size).prefetch(tf.data.AUTOTUNE)\n",
        "    return dataset, inputs, outputs\n",
        "\n",
        "window_size = 15\n",
        "batch_size = 128\n",
        "dataset, inputs, outputs = create_dataset(sentences, window_size, batch_size)\n",
        "\n",
        "# Calculate steps per epoch\n",
        "steps_per_epoch = len(inputs) // batch_size\n"
      ]
    },
    {
      "cell_type": "code",
      "execution_count": 5,
      "id": "s2lpXXbLp_jM",
      "metadata": {
        "colab": {
          "base_uri": "https://localhost:8080/"
        },
        "id": "s2lpXXbLp_jM",
        "outputId": "192b86bf-77a1-4242-ee2e-922d535e2286"
      },
      "outputs": [
        {
          "name": "stdout",
          "output_type": "stream",
          "text": [
            "Shape of x_train: (8772, 15), y_train: (8772,)\n",
            "Shape of x_test: (2194, 15), y_test: (2194,)\n"
          ]
        }
      ],
      "source": [
        "# Generate train/test arrays\n",
        "x, y = [], []\n",
        "for seq in tokenizer.texts_to_sequences(sentences):\n",
        "    for i in range(len(seq) - window_size):\n",
        "        x.append(seq[i:i+window_size])\n",
        "        y.append(seq[i+window_size])\n",
        "x, y = np.array(x), np.array(y)\n",
        "\n",
        "x_train, x_test, y_train, y_test = train_test_split(x, y, test_size=0.2, random_state=42)\n",
        "\n",
        "print(f\"Shape of x_train: {x_train.shape}, y_train: {y_train.shape}\")\n",
        "print(f\"Shape of x_test: {x_test.shape}, y_test: {y_test.shape}\")\n"
      ]
    },
    {
      "cell_type": "code",
      "execution_count": 6,
      "id": "8uQZsh1BqIvY",
      "metadata": {
        "id": "8uQZsh1BqIvY"
      },
      "outputs": [],
      "source": [
        "def model_builder(hp):\n",
        "    model = Sequential()\n",
        "    model.add(Embedding(input_dim=total_words, output_dim=hp.Choice('embedding_dim', [64, 128, 160]), input_length=window_size))\n",
        "    model.add(Bidirectional(LSTM(units=hp.Choice('units1', [64, 128]), return_sequences=False)))\n",
        "    model.add(Dropout(rate=hp.Choice('dropout', [0.2, 0.3, 0.4])))\n",
        "    model.add(Dense(total_words, activation='softmax'))\n",
        "\n",
        "    model.compile(loss='sparse_categorical_crossentropy',\n",
        "                  optimizer=Adam(learning_rate=hp.Choice('learning_rate', [0.01, 0.001])),\n",
        "                  metrics=['accuracy'])\n",
        "    return model\n"
      ]
    },
    {
      "cell_type": "code",
      "execution_count": 7,
      "id": "WjFI5-2BqJ6I",
      "metadata": {
        "colab": {
          "base_uri": "https://localhost:8080/"
        },
        "id": "WjFI5-2BqJ6I",
        "outputId": "94ce35fa-53f9-4489-9202-a7235c3be898"
      },
      "outputs": [
        {
          "name": "stdout",
          "output_type": "stream",
          "text": [
            "Reloading Tuner from kt_dir/next_word_prediction/tuner0.json\n"
          ]
        }
      ],
      "source": [
        "tuner = kt.Hyperband(\n",
        "    model_builder,\n",
        "    objective='val_accuracy',\n",
        "    max_epochs=10,\n",
        "    factor=3,\n",
        "    directory='kt_dir',\n",
        "    project_name='next_word_prediction'\n",
        ")\n",
        "\n",
        "early_stopping = EarlyStopping(monitor='val_loss', patience=3)\n",
        "lr_scheduler = ReduceLROnPlateau(monitor='val_loss', factor=0.5, patience=2)\n",
        "\n",
        "tuner.search(x_train, y_train, epochs=10, validation_data=(x_test, y_test),\n",
        "             callbacks=[early_stopping, lr_scheduler], verbose=1)\n"
      ]
    },
    {
      "cell_type": "code",
      "execution_count": 8,
      "id": "Q9b22NGTlHq8",
      "metadata": {
        "colab": {
          "base_uri": "https://localhost:8080/"
        },
        "id": "Q9b22NGTlHq8",
        "outputId": "47e296c9-e498-4e5a-b9e3-94e8f5036c99"
      },
      "outputs": [
        {
          "name": "stderr",
          "output_type": "stream",
          "text": [
            "/usr/local/lib/python3.11/dist-packages/keras/src/layers/core/embedding.py:90: UserWarning: Argument `input_length` is deprecated. Just remove it.\n",
            "  warnings.warn(\n"
          ]
        },
        {
          "name": "stdout",
          "output_type": "stream",
          "text": [
            "Best hyperparameters found:\n",
            "embedding_dim: 160\n",
            "units1: 64\n",
            "dropout: 0.3\n",
            "learning_rate: 0.01\n",
            "tuner/epochs: 4\n",
            "tuner/initial_epoch: 0\n",
            "tuner/bracket: 1\n",
            "tuner/round: 0\n",
            "Epoch 1/100\n"
          ]
        },
        {
          "name": "stderr",
          "output_type": "stream",
          "text": [
            "/usr/local/lib/python3.11/dist-packages/keras/src/saving/saving_lib.py:757: UserWarning: Skipping variable loading for optimizer 'adam', because it has 2 variables whereas the saved optimizer has 20 variables. \n",
            "  saveable.load_own_variables(weights_store.get(inner_path))\n"
          ]
        },
        {
          "name": "stdout",
          "output_type": "stream",
          "text": [
            "\u001b[1m228/228\u001b[0m \u001b[32m━━━━━━━━━━━━━━━━━━━━\u001b[0m\u001b[37m\u001b[0m \u001b[1m14s\u001b[0m 22ms/step - accuracy: 0.0579 - loss: 6.4514 - val_accuracy: 0.0834 - val_loss: 6.1886 - learning_rate: 0.0100\n",
            "Epoch 2/100\n",
            "\u001b[1m228/228\u001b[0m \u001b[32m━━━━━━━━━━━━━━━━━━━━\u001b[0m\u001b[37m\u001b[0m \u001b[1m3s\u001b[0m 12ms/step - accuracy: 0.0843 - loss: 5.8148 - val_accuracy: 0.1263 - val_loss: 5.4131 - learning_rate: 0.0100\n",
            "Epoch 3/100\n",
            "\u001b[1m228/228\u001b[0m \u001b[32m━━━━━━━━━━━━━━━━━━━━\u001b[0m\u001b[37m\u001b[0m \u001b[1m2s\u001b[0m 8ms/step - accuracy: 0.1098 - loss: 5.2663 - val_accuracy: 0.2142 - val_loss: 4.4450 - learning_rate: 0.0100\n",
            "Epoch 4/100\n",
            "\u001b[1m228/228\u001b[0m \u001b[32m━━━━━━━━━━━━━━━━━━━━\u001b[0m\u001b[37m\u001b[0m \u001b[1m2s\u001b[0m 9ms/step - accuracy: 0.1590 - loss: 4.6459 - val_accuracy: 0.3396 - val_loss: 3.4921 - learning_rate: 0.0100\n",
            "Epoch 5/100\n",
            "\u001b[1m228/228\u001b[0m \u001b[32m━━━━━━━━━━━━━━━━━━━━\u001b[0m\u001b[37m\u001b[0m \u001b[1m2s\u001b[0m 8ms/step - accuracy: 0.2157 - loss: 4.0645 - val_accuracy: 0.4704 - val_loss: 2.7756 - learning_rate: 0.0100\n",
            "Epoch 6/100\n",
            "\u001b[1m228/228\u001b[0m \u001b[32m━━━━━━━━━━━━━━━━━━━━\u001b[0m\u001b[37m\u001b[0m \u001b[1m3s\u001b[0m 12ms/step - accuracy: 0.2858 - loss: 3.5475 - val_accuracy: 0.5469 - val_loss: 2.2204 - learning_rate: 0.0100\n",
            "Epoch 7/100\n",
            "\u001b[1m228/228\u001b[0m \u001b[32m━━━━━━━━━━━━━━━━━━━━\u001b[0m\u001b[37m\u001b[0m \u001b[1m2s\u001b[0m 9ms/step - accuracy: 0.3534 - loss: 3.0932 - val_accuracy: 0.6108 - val_loss: 1.8353 - learning_rate: 0.0100\n",
            "Epoch 8/100\n",
            "\u001b[1m228/228\u001b[0m \u001b[32m━━━━━━━━━━━━━━━━━━━━\u001b[0m\u001b[37m\u001b[0m \u001b[1m2s\u001b[0m 9ms/step - accuracy: 0.4048 - loss: 2.7571 - val_accuracy: 0.6691 - val_loss: 1.5768 - learning_rate: 0.0100\n",
            "Epoch 9/100\n",
            "\u001b[1m228/228\u001b[0m \u001b[32m━━━━━━━━━━━━━━━━━━━━\u001b[0m\u001b[37m\u001b[0m \u001b[1m2s\u001b[0m 9ms/step - accuracy: 0.4545 - loss: 2.4490 - val_accuracy: 0.7211 - val_loss: 1.3183 - learning_rate: 0.0100\n",
            "Epoch 10/100\n",
            "\u001b[1m228/228\u001b[0m \u001b[32m━━━━━━━━━━━━━━━━━━━━\u001b[0m\u001b[37m\u001b[0m \u001b[1m2s\u001b[0m 9ms/step - accuracy: 0.4869 - loss: 2.2745 - val_accuracy: 0.7461 - val_loss: 1.1636 - learning_rate: 0.0100\n",
            "Epoch 11/100\n",
            "\u001b[1m228/228\u001b[0m \u001b[32m━━━━━━━━━━━━━━━━━━━━\u001b[0m\u001b[37m\u001b[0m \u001b[1m2s\u001b[0m 9ms/step - accuracy: 0.5146 - loss: 2.1208 - val_accuracy: 0.7826 - val_loss: 1.0400 - learning_rate: 0.0100\n",
            "Epoch 12/100\n",
            "\u001b[1m228/228\u001b[0m \u001b[32m━━━━━━━━━━━━━━━━━━━━\u001b[0m\u001b[37m\u001b[0m \u001b[1m3s\u001b[0m 12ms/step - accuracy: 0.5407 - loss: 1.9581 - val_accuracy: 0.7954 - val_loss: 0.9291 - learning_rate: 0.0100\n",
            "Epoch 13/100\n",
            "\u001b[1m228/228\u001b[0m \u001b[32m━━━━━━━━━━━━━━━━━━━━\u001b[0m\u001b[37m\u001b[0m \u001b[1m2s\u001b[0m 8ms/step - accuracy: 0.5543 - loss: 1.8851 - val_accuracy: 0.8049 - val_loss: 0.8580 - learning_rate: 0.0100\n",
            "Epoch 14/100\n",
            "\u001b[1m228/228\u001b[0m \u001b[32m━━━━━━━━━━━━━━━━━━━━\u001b[0m\u001b[37m\u001b[0m \u001b[1m2s\u001b[0m 9ms/step - accuracy: 0.5670 - loss: 1.8040 - val_accuracy: 0.8309 - val_loss: 0.7970 - learning_rate: 0.0100\n",
            "Epoch 15/100\n",
            "\u001b[1m228/228\u001b[0m \u001b[32m━━━━━━━━━━━━━━━━━━━━\u001b[0m\u001b[37m\u001b[0m \u001b[1m2s\u001b[0m 9ms/step - accuracy: 0.5831 - loss: 1.7366 - val_accuracy: 0.8382 - val_loss: 0.7272 - learning_rate: 0.0100\n",
            "Epoch 16/100\n",
            "\u001b[1m228/228\u001b[0m \u001b[32m━━━━━━━━━━━━━━━━━━━━\u001b[0m\u001b[37m\u001b[0m \u001b[1m2s\u001b[0m 9ms/step - accuracy: 0.6009 - loss: 1.6553 - val_accuracy: 0.8446 - val_loss: 0.7177 - learning_rate: 0.0100\n",
            "Epoch 17/100\n",
            "\u001b[1m228/228\u001b[0m \u001b[32m━━━━━━━━━━━━━━━━━━━━\u001b[0m\u001b[37m\u001b[0m \u001b[1m2s\u001b[0m 8ms/step - accuracy: 0.6092 - loss: 1.6120 - val_accuracy: 0.8587 - val_loss: 0.6364 - learning_rate: 0.0100\n",
            "Epoch 18/100\n",
            "\u001b[1m228/228\u001b[0m \u001b[32m━━━━━━━━━━━━━━━━━━━━\u001b[0m\u001b[37m\u001b[0m \u001b[1m3s\u001b[0m 12ms/step - accuracy: 0.6135 - loss: 1.5637 - val_accuracy: 0.8655 - val_loss: 0.6101 - learning_rate: 0.0100\n",
            "Epoch 19/100\n",
            "\u001b[1m228/228\u001b[0m \u001b[32m━━━━━━━━━━━━━━━━━━━━\u001b[0m\u001b[37m\u001b[0m \u001b[1m2s\u001b[0m 8ms/step - accuracy: 0.6233 - loss: 1.5287 - val_accuracy: 0.8687 - val_loss: 0.5869 - learning_rate: 0.0100\n",
            "Epoch 20/100\n",
            "\u001b[1m228/228\u001b[0m \u001b[32m━━━━━━━━━━━━━━━━━━━━\u001b[0m\u001b[37m\u001b[0m \u001b[1m2s\u001b[0m 9ms/step - accuracy: 0.6174 - loss: 1.5391 - val_accuracy: 0.8756 - val_loss: 0.5540 - learning_rate: 0.0100\n",
            "Epoch 21/100\n",
            "\u001b[1m228/228\u001b[0m \u001b[32m━━━━━━━━━━━━━━━━━━━━\u001b[0m\u001b[37m\u001b[0m \u001b[1m2s\u001b[0m 9ms/step - accuracy: 0.6190 - loss: 1.4935 - val_accuracy: 0.8815 - val_loss: 0.5228 - learning_rate: 0.0100\n",
            "Epoch 22/100\n",
            "\u001b[1m228/228\u001b[0m \u001b[32m━━━━━━━━━━━━━━━━━━━━\u001b[0m\u001b[37m\u001b[0m \u001b[1m2s\u001b[0m 9ms/step - accuracy: 0.6307 - loss: 1.4452 - val_accuracy: 0.8856 - val_loss: 0.5073 - learning_rate: 0.0100\n",
            "Epoch 23/100\n",
            "\u001b[1m228/228\u001b[0m \u001b[32m━━━━━━━━━━━━━━━━━━━━\u001b[0m\u001b[37m\u001b[0m \u001b[1m2s\u001b[0m 9ms/step - accuracy: 0.6376 - loss: 1.4297 - val_accuracy: 0.8815 - val_loss: 0.4864 - learning_rate: 0.0100\n",
            "Epoch 24/100\n",
            "\u001b[1m228/228\u001b[0m \u001b[32m━━━━━━━━━━━━━━━━━━━━\u001b[0m\u001b[37m\u001b[0m \u001b[1m3s\u001b[0m 11ms/step - accuracy: 0.6469 - loss: 1.3885 - val_accuracy: 0.8988 - val_loss: 0.4647 - learning_rate: 0.0100\n",
            "Epoch 25/100\n",
            "\u001b[1m228/228\u001b[0m \u001b[32m━━━━━━━━━━━━━━━━━━━━\u001b[0m\u001b[37m\u001b[0m \u001b[1m3s\u001b[0m 13ms/step - accuracy: 0.6517 - loss: 1.3554 - val_accuracy: 0.8933 - val_loss: 0.4518 - learning_rate: 0.0100\n",
            "Epoch 26/100\n",
            "\u001b[1m228/228\u001b[0m \u001b[32m━━━━━━━━━━━━━━━━━━━━\u001b[0m\u001b[37m\u001b[0m \u001b[1m3s\u001b[0m 14ms/step - accuracy: 0.6513 - loss: 1.3540 - val_accuracy: 0.9020 - val_loss: 0.4457 - learning_rate: 0.0100\n",
            "Epoch 27/100\n",
            "\u001b[1m228/228\u001b[0m \u001b[32m━━━━━━━━━━━━━━━━━━━━\u001b[0m\u001b[37m\u001b[0m \u001b[1m4s\u001b[0m 19ms/step - accuracy: 0.6514 - loss: 1.3539 - val_accuracy: 0.9025 - val_loss: 0.4249 - learning_rate: 0.0100\n",
            "Epoch 28/100\n",
            "\u001b[1m228/228\u001b[0m \u001b[32m━━━━━━━━━━━━━━━━━━━━\u001b[0m\u001b[37m\u001b[0m \u001b[1m4s\u001b[0m 18ms/step - accuracy: 0.6499 - loss: 1.3420 - val_accuracy: 0.9011 - val_loss: 0.4333 - learning_rate: 0.0100\n",
            "Epoch 29/100\n",
            "\u001b[1m228/228\u001b[0m \u001b[32m━━━━━━━━━━━━━━━━━━━━\u001b[0m\u001b[37m\u001b[0m \u001b[1m3s\u001b[0m 11ms/step - accuracy: 0.6433 - loss: 1.3594 - val_accuracy: 0.9079 - val_loss: 0.4068 - learning_rate: 0.0100\n",
            "Epoch 30/100\n",
            "\u001b[1m228/228\u001b[0m \u001b[32m━━━━━━━━━━━━━━━━━━━━\u001b[0m\u001b[37m\u001b[0m \u001b[1m2s\u001b[0m 8ms/step - accuracy: 0.6600 - loss: 1.3110 - val_accuracy: 0.9066 - val_loss: 0.4055 - learning_rate: 0.0100\n",
            "Epoch 31/100\n",
            "\u001b[1m228/228\u001b[0m \u001b[32m━━━━━━━━━━━━━━━━━━━━\u001b[0m\u001b[37m\u001b[0m \u001b[1m2s\u001b[0m 9ms/step - accuracy: 0.6547 - loss: 1.3314 - val_accuracy: 0.9098 - val_loss: 0.4039 - learning_rate: 0.0100\n",
            "Epoch 32/100\n",
            "\u001b[1m228/228\u001b[0m \u001b[32m━━━━━━━━━━━━━━━━━━━━\u001b[0m\u001b[37m\u001b[0m \u001b[1m3s\u001b[0m 12ms/step - accuracy: 0.6594 - loss: 1.2910 - val_accuracy: 0.9043 - val_loss: 0.4061 - learning_rate: 0.0100\n",
            "Epoch 33/100\n",
            "\u001b[1m228/228\u001b[0m \u001b[32m━━━━━━━━━━━━━━━━━━━━\u001b[0m\u001b[37m\u001b[0m \u001b[1m2s\u001b[0m 9ms/step - accuracy: 0.6614 - loss: 1.2989 - val_accuracy: 0.9038 - val_loss: 0.3912 - learning_rate: 0.0100\n",
            "Epoch 34/100\n",
            "\u001b[1m228/228\u001b[0m \u001b[32m━━━━━━━━━━━━━━━━━━━━\u001b[0m\u001b[37m\u001b[0m \u001b[1m2s\u001b[0m 9ms/step - accuracy: 0.6553 - loss: 1.2923 - val_accuracy: 0.9093 - val_loss: 0.3879 - learning_rate: 0.0100\n",
            "Epoch 35/100\n",
            "\u001b[1m228/228\u001b[0m \u001b[32m━━━━━━━━━━━━━━━━━━━━\u001b[0m\u001b[37m\u001b[0m \u001b[1m2s\u001b[0m 9ms/step - accuracy: 0.6651 - loss: 1.2775 - val_accuracy: 0.9125 - val_loss: 0.3724 - learning_rate: 0.0100\n",
            "Epoch 36/100\n",
            "\u001b[1m228/228\u001b[0m \u001b[32m━━━━━━━━━━━━━━━━━━━━\u001b[0m\u001b[37m\u001b[0m \u001b[1m2s\u001b[0m 9ms/step - accuracy: 0.6695 - loss: 1.2657 - val_accuracy: 0.9221 - val_loss: 0.3509 - learning_rate: 0.0100\n",
            "Epoch 37/100\n",
            "\u001b[1m228/228\u001b[0m \u001b[32m━━━━━━━━━━━━━━━━━━━━\u001b[0m\u001b[37m\u001b[0m \u001b[1m2s\u001b[0m 9ms/step - accuracy: 0.6641 - loss: 1.2603 - val_accuracy: 0.9088 - val_loss: 0.3750 - learning_rate: 0.0100\n",
            "Epoch 38/100\n",
            "\u001b[1m228/228\u001b[0m \u001b[32m━━━━━━━━━━━━━━━━━━━━\u001b[0m\u001b[37m\u001b[0m \u001b[1m3s\u001b[0m 12ms/step - accuracy: 0.6710 - loss: 1.2704 - val_accuracy: 0.9202 - val_loss: 0.3534 - learning_rate: 0.0100\n",
            "Epoch 39/100\n",
            "\u001b[1m228/228\u001b[0m \u001b[32m━━━━━━━━━━━━━━━━━━━━\u001b[0m\u001b[37m\u001b[0m \u001b[1m2s\u001b[0m 9ms/step - accuracy: 0.6947 - loss: 1.1462 - val_accuracy: 0.9553 - val_loss: 0.2341 - learning_rate: 0.0050\n",
            "Epoch 40/100\n",
            "\u001b[1m228/228\u001b[0m \u001b[32m━━━━━━━━━━━━━━━━━━━━\u001b[0m\u001b[37m\u001b[0m \u001b[1m2s\u001b[0m 9ms/step - accuracy: 0.7557 - loss: 0.8950 - val_accuracy: 0.9613 - val_loss: 0.1981 - learning_rate: 0.0050\n",
            "Epoch 41/100\n",
            "\u001b[1m228/228\u001b[0m \u001b[32m━━━━━━━━━━━━━━━━━━━━\u001b[0m\u001b[37m\u001b[0m \u001b[1m2s\u001b[0m 9ms/step - accuracy: 0.7780 - loss: 0.8096 - val_accuracy: 0.9672 - val_loss: 0.1745 - learning_rate: 0.0050\n",
            "Epoch 42/100\n",
            "\u001b[1m228/228\u001b[0m \u001b[32m━━━━━━━━━━━━━━━━━━━━\u001b[0m\u001b[37m\u001b[0m \u001b[1m2s\u001b[0m 8ms/step - accuracy: 0.7882 - loss: 0.7592 - val_accuracy: 0.9704 - val_loss: 0.1663 - learning_rate: 0.0050\n",
            "Epoch 43/100\n",
            "\u001b[1m228/228\u001b[0m \u001b[32m━━━━━━━━━━━━━━━━━━━━\u001b[0m\u001b[37m\u001b[0m \u001b[1m2s\u001b[0m 9ms/step - accuracy: 0.7963 - loss: 0.7287 - val_accuracy: 0.9731 - val_loss: 0.1525 - learning_rate: 0.0050\n",
            "Epoch 44/100\n",
            "\u001b[1m228/228\u001b[0m \u001b[32m━━━━━━━━━━━━━━━━━━━━\u001b[0m\u001b[37m\u001b[0m \u001b[1m2s\u001b[0m 11ms/step - accuracy: 0.8010 - loss: 0.7114 - val_accuracy: 0.9777 - val_loss: 0.1352 - learning_rate: 0.0050\n",
            "Epoch 45/100\n",
            "\u001b[1m228/228\u001b[0m \u001b[32m━━━━━━━━━━━━━━━━━━━━\u001b[0m\u001b[37m\u001b[0m \u001b[1m2s\u001b[0m 9ms/step - accuracy: 0.8021 - loss: 0.7054 - val_accuracy: 0.9777 - val_loss: 0.1241 - learning_rate: 0.0050\n",
            "Epoch 46/100\n",
            "\u001b[1m228/228\u001b[0m \u001b[32m━━━━━━━━━━━━━━━━━━━━\u001b[0m\u001b[37m\u001b[0m \u001b[1m2s\u001b[0m 8ms/step - accuracy: 0.8111 - loss: 0.6648 - val_accuracy: 0.9781 - val_loss: 0.1265 - learning_rate: 0.0050\n",
            "Epoch 47/100\n",
            "\u001b[1m228/228\u001b[0m \u001b[32m━━━━━━━━━━━━━━━━━━━━\u001b[0m\u001b[37m\u001b[0m \u001b[1m2s\u001b[0m 8ms/step - accuracy: 0.8169 - loss: 0.6338 - val_accuracy: 0.9850 - val_loss: 0.1155 - learning_rate: 0.0050\n",
            "Epoch 48/100\n",
            "\u001b[1m228/228\u001b[0m \u001b[32m━━━━━━━━━━━━━━━━━━━━\u001b[0m\u001b[37m\u001b[0m \u001b[1m2s\u001b[0m 8ms/step - accuracy: 0.8263 - loss: 0.6273 - val_accuracy: 0.9827 - val_loss: 0.1086 - learning_rate: 0.0050\n",
            "Epoch 49/100\n",
            "\u001b[1m228/228\u001b[0m \u001b[32m━━━━━━━━━━━━━━━━━━━━\u001b[0m\u001b[37m\u001b[0m \u001b[1m2s\u001b[0m 10ms/step - accuracy: 0.8221 - loss: 0.6267 - val_accuracy: 0.9813 - val_loss: 0.1081 - learning_rate: 0.0050\n",
            "Epoch 50/100\n",
            "\u001b[1m228/228\u001b[0m \u001b[32m━━━━━━━━━━━━━━━━━━━━\u001b[0m\u001b[37m\u001b[0m \u001b[1m2s\u001b[0m 11ms/step - accuracy: 0.8219 - loss: 0.6206 - val_accuracy: 0.9813 - val_loss: 0.1049 - learning_rate: 0.0050\n",
            "Epoch 51/100\n",
            "\u001b[1m228/228\u001b[0m \u001b[32m━━━━━━━━━━━━━━━━━━━━\u001b[0m\u001b[37m\u001b[0m \u001b[1m2s\u001b[0m 9ms/step - accuracy: 0.8249 - loss: 0.6134 - val_accuracy: 0.9850 - val_loss: 0.0987 - learning_rate: 0.0050\n",
            "Epoch 52/100\n",
            "\u001b[1m228/228\u001b[0m \u001b[32m━━━━━━━━━━━━━━━━━━━━\u001b[0m\u001b[37m\u001b[0m \u001b[1m2s\u001b[0m 10ms/step - accuracy: 0.8208 - loss: 0.6110 - val_accuracy: 0.9859 - val_loss: 0.0960 - learning_rate: 0.0050\n",
            "Epoch 53/100\n",
            "\u001b[1m228/228\u001b[0m \u001b[32m━━━━━━━━━━━━━━━━━━━━\u001b[0m\u001b[37m\u001b[0m \u001b[1m3s\u001b[0m 11ms/step - accuracy: 0.8245 - loss: 0.6093 - val_accuracy: 0.9845 - val_loss: 0.0970 - learning_rate: 0.0050\n",
            "Epoch 54/100\n",
            "\u001b[1m228/228\u001b[0m \u001b[32m━━━━━━━━━━━━━━━━━━━━\u001b[0m\u001b[37m\u001b[0m \u001b[1m2s\u001b[0m 9ms/step - accuracy: 0.8307 - loss: 0.5931 - val_accuracy: 0.9886 - val_loss: 0.0851 - learning_rate: 0.0050\n",
            "Epoch 55/100\n",
            "\u001b[1m228/228\u001b[0m \u001b[32m━━━━━━━━━━━━━━━━━━━━\u001b[0m\u001b[37m\u001b[0m \u001b[1m3s\u001b[0m 12ms/step - accuracy: 0.8276 - loss: 0.5923 - val_accuracy: 0.9872 - val_loss: 0.0887 - learning_rate: 0.0050\n",
            "Epoch 56/100\n",
            "\u001b[1m228/228\u001b[0m \u001b[32m━━━━━━━━━━━━━━━━━━━━\u001b[0m\u001b[37m\u001b[0m \u001b[1m2s\u001b[0m 9ms/step - accuracy: 0.8335 - loss: 0.5864 - val_accuracy: 0.9877 - val_loss: 0.0835 - learning_rate: 0.0050\n",
            "Epoch 57/100\n",
            "\u001b[1m228/228\u001b[0m \u001b[32m━━━━━━━━━━━━━━━━━━━━\u001b[0m\u001b[37m\u001b[0m \u001b[1m2s\u001b[0m 9ms/step - accuracy: 0.8352 - loss: 0.5766 - val_accuracy: 0.9900 - val_loss: 0.0824 - learning_rate: 0.0050\n",
            "Epoch 58/100\n",
            "\u001b[1m228/228\u001b[0m \u001b[32m━━━━━━━━━━━━━━━━━━━━\u001b[0m\u001b[37m\u001b[0m \u001b[1m2s\u001b[0m 9ms/step - accuracy: 0.8380 - loss: 0.5675 - val_accuracy: 0.9868 - val_loss: 0.0810 - learning_rate: 0.0050\n",
            "Epoch 59/100\n",
            "\u001b[1m228/228\u001b[0m \u001b[32m━━━━━━━━━━━━━━━━━━━━\u001b[0m\u001b[37m\u001b[0m \u001b[1m2s\u001b[0m 9ms/step - accuracy: 0.8342 - loss: 0.5808 - val_accuracy: 0.9863 - val_loss: 0.0840 - learning_rate: 0.0050\n",
            "Epoch 60/100\n",
            "\u001b[1m228/228\u001b[0m \u001b[32m━━━━━━━━━━━━━━━━━━━━\u001b[0m\u001b[37m\u001b[0m \u001b[1m2s\u001b[0m 11ms/step - accuracy: 0.8321 - loss: 0.5746 - val_accuracy: 0.9918 - val_loss: 0.0735 - learning_rate: 0.0050\n",
            "Epoch 61/100\n",
            "\u001b[1m228/228\u001b[0m \u001b[32m━━━━━━━━━━━━━━━━━━━━\u001b[0m\u001b[37m\u001b[0m \u001b[1m2s\u001b[0m 10ms/step - accuracy: 0.8373 - loss: 0.5647 - val_accuracy: 0.9886 - val_loss: 0.0739 - learning_rate: 0.0050\n",
            "Epoch 62/100\n",
            "\u001b[1m228/228\u001b[0m \u001b[32m━━━━━━━━━━━━━━━━━━━━\u001b[0m\u001b[37m\u001b[0m \u001b[1m2s\u001b[0m 8ms/step - accuracy: 0.8378 - loss: 0.5678 - val_accuracy: 0.9900 - val_loss: 0.0735 - learning_rate: 0.0050\n",
            "Epoch 63/100\n",
            "\u001b[1m228/228\u001b[0m \u001b[32m━━━━━━━━━━━━━━━━━━━━\u001b[0m\u001b[37m\u001b[0m \u001b[1m2s\u001b[0m 8ms/step - accuracy: 0.8571 - loss: 0.5023 - val_accuracy: 0.9950 - val_loss: 0.0541 - learning_rate: 0.0025\n",
            "Epoch 64/100\n",
            "\u001b[1m228/228\u001b[0m \u001b[32m━━━━━━━━━━━━━━━━━━━━\u001b[0m\u001b[37m\u001b[0m \u001b[1m2s\u001b[0m 8ms/step - accuracy: 0.8748 - loss: 0.4266 - val_accuracy: 0.9950 - val_loss: 0.0485 - learning_rate: 0.0025\n",
            "Epoch 65/100\n",
            "\u001b[1m228/228\u001b[0m \u001b[32m━━━━━━━━━━━━━━━━━━━━\u001b[0m\u001b[37m\u001b[0m \u001b[1m2s\u001b[0m 8ms/step - accuracy: 0.8825 - loss: 0.4086 - val_accuracy: 0.9936 - val_loss: 0.0455 - learning_rate: 0.0025\n",
            "Epoch 66/100\n",
            "\u001b[1m228/228\u001b[0m \u001b[32m━━━━━━━━━━━━━━━━━━━━\u001b[0m\u001b[37m\u001b[0m \u001b[1m3s\u001b[0m 12ms/step - accuracy: 0.8854 - loss: 0.3971 - val_accuracy: 0.9954 - val_loss: 0.0424 - learning_rate: 0.0025\n",
            "Epoch 67/100\n",
            "\u001b[1m228/228\u001b[0m \u001b[32m━━━━━━━━━━━━━━━━━━━━\u001b[0m\u001b[37m\u001b[0m \u001b[1m2s\u001b[0m 9ms/step - accuracy: 0.8902 - loss: 0.3780 - val_accuracy: 0.9945 - val_loss: 0.0382 - learning_rate: 0.0025\n",
            "Epoch 68/100\n",
            "\u001b[1m228/228\u001b[0m \u001b[32m━━━━━━━━━━━━━━━━━━━━\u001b[0m\u001b[37m\u001b[0m \u001b[1m2s\u001b[0m 9ms/step - accuracy: 0.8909 - loss: 0.3663 - val_accuracy: 0.9959 - val_loss: 0.0382 - learning_rate: 0.0025\n",
            "Epoch 69/100\n",
            "\u001b[1m228/228\u001b[0m \u001b[32m━━━━━━━━━━━━━━━━━━━━\u001b[0m\u001b[37m\u001b[0m \u001b[1m2s\u001b[0m 9ms/step - accuracy: 0.8989 - loss: 0.3474 - val_accuracy: 0.9950 - val_loss: 0.0377 - learning_rate: 0.0025\n",
            "Epoch 70/100\n",
            "\u001b[1m228/228\u001b[0m \u001b[32m━━━━━━━━━━━━━━━━━━━━\u001b[0m\u001b[37m\u001b[0m \u001b[1m2s\u001b[0m 9ms/step - accuracy: 0.8992 - loss: 0.3462 - val_accuracy: 0.9968 - val_loss: 0.0338 - learning_rate: 0.0025\n",
            "Epoch 71/100\n",
            "\u001b[1m228/228\u001b[0m \u001b[32m━━━━━━━━━━━━━━━━━━━━\u001b[0m\u001b[37m\u001b[0m \u001b[1m2s\u001b[0m 9ms/step - accuracy: 0.8978 - loss: 0.3513 - val_accuracy: 0.9973 - val_loss: 0.0321 - learning_rate: 0.0025\n",
            "Epoch 72/100\n",
            "\u001b[1m228/228\u001b[0m \u001b[32m━━━━━━━━━━━━━━━━━━━━\u001b[0m\u001b[37m\u001b[0m \u001b[1m3s\u001b[0m 12ms/step - accuracy: 0.9052 - loss: 0.3283 - val_accuracy: 0.9968 - val_loss: 0.0319 - learning_rate: 0.0025\n",
            "Epoch 73/100\n",
            "\u001b[1m228/228\u001b[0m \u001b[32m━━━━━━━━━━━━━━━━━━━━\u001b[0m\u001b[37m\u001b[0m \u001b[1m2s\u001b[0m 9ms/step - accuracy: 0.9006 - loss: 0.3411 - val_accuracy: 0.9973 - val_loss: 0.0313 - learning_rate: 0.0025\n",
            "Epoch 74/100\n",
            "\u001b[1m228/228\u001b[0m \u001b[32m━━━━━━━━━━━━━━━━━━━━\u001b[0m\u001b[37m\u001b[0m \u001b[1m2s\u001b[0m 9ms/step - accuracy: 0.9041 - loss: 0.3311 - val_accuracy: 0.9968 - val_loss: 0.0313 - learning_rate: 0.0025\n",
            "Epoch 75/100\n",
            "\u001b[1m228/228\u001b[0m \u001b[32m━━━━━━━━━━━━━━━━━━━━\u001b[0m\u001b[37m\u001b[0m \u001b[1m2s\u001b[0m 9ms/step - accuracy: 0.9009 - loss: 0.3332 - val_accuracy: 0.9977 - val_loss: 0.0283 - learning_rate: 0.0025\n",
            "Epoch 76/100\n",
            "\u001b[1m228/228\u001b[0m \u001b[32m━━━━━━━━━━━━━━━━━━━━\u001b[0m\u001b[37m\u001b[0m \u001b[1m2s\u001b[0m 9ms/step - accuracy: 0.9081 - loss: 0.3136 - val_accuracy: 0.9977 - val_loss: 0.0256 - learning_rate: 0.0025\n",
            "Epoch 77/100\n",
            "\u001b[1m228/228\u001b[0m \u001b[32m━━━━━━━━━━━━━━━━━━━━\u001b[0m\u001b[37m\u001b[0m \u001b[1m2s\u001b[0m 11ms/step - accuracy: 0.9111 - loss: 0.3069 - val_accuracy: 0.9977 - val_loss: 0.0259 - learning_rate: 0.0025\n",
            "Epoch 78/100\n",
            "\u001b[1m228/228\u001b[0m \u001b[32m━━━━━━━━━━━━━━━━━━━━\u001b[0m\u001b[37m\u001b[0m \u001b[1m2s\u001b[0m 10ms/step - accuracy: 0.9112 - loss: 0.3074 - val_accuracy: 0.9977 - val_loss: 0.0262 - learning_rate: 0.0025\n",
            "Epoch 79/100\n",
            "\u001b[1m228/228\u001b[0m \u001b[32m━━━━━━━━━━━━━━━━━━━━\u001b[0m\u001b[37m\u001b[0m \u001b[1m2s\u001b[0m 9ms/step - accuracy: 0.9131 - loss: 0.2987 - val_accuracy: 0.9982 - val_loss: 0.0225 - learning_rate: 0.0012\n",
            "Epoch 80/100\n",
            "\u001b[1m228/228\u001b[0m \u001b[32m━━━━━━━━━━━━━━━━━━━━\u001b[0m\u001b[37m\u001b[0m \u001b[1m2s\u001b[0m 9ms/step - accuracy: 0.9213 - loss: 0.2727 - val_accuracy: 0.9986 - val_loss: 0.0204 - learning_rate: 0.0012\n",
            "Epoch 81/100\n",
            "\u001b[1m228/228\u001b[0m \u001b[32m━━━━━━━━━━━━━━━━━━━━\u001b[0m\u001b[37m\u001b[0m \u001b[1m2s\u001b[0m 9ms/step - accuracy: 0.9232 - loss: 0.2561 - val_accuracy: 0.9982 - val_loss: 0.0189 - learning_rate: 0.0012\n",
            "Epoch 82/100\n",
            "\u001b[1m228/228\u001b[0m \u001b[32m━━━━━━━━━━━━━━━━━━━━\u001b[0m\u001b[37m\u001b[0m \u001b[1m2s\u001b[0m 9ms/step - accuracy: 0.9247 - loss: 0.2639 - val_accuracy: 0.9986 - val_loss: 0.0180 - learning_rate: 0.0012\n",
            "Epoch 83/100\n",
            "\u001b[1m228/228\u001b[0m \u001b[32m━━━━━━━━━━━━━━━━━━━━\u001b[0m\u001b[37m\u001b[0m \u001b[1m3s\u001b[0m 12ms/step - accuracy: 0.9278 - loss: 0.2509 - val_accuracy: 0.9991 - val_loss: 0.0171 - learning_rate: 0.0012\n",
            "Epoch 84/100\n",
            "\u001b[1m228/228\u001b[0m \u001b[32m━━━━━━━━━━━━━━━━━━━━\u001b[0m\u001b[37m\u001b[0m \u001b[1m2s\u001b[0m 9ms/step - accuracy: 0.9275 - loss: 0.2469 - val_accuracy: 0.9991 - val_loss: 0.0163 - learning_rate: 0.0012\n",
            "Epoch 85/100\n",
            "\u001b[1m228/228\u001b[0m \u001b[32m━━━━━━━━━━━━━━━━━━━━\u001b[0m\u001b[37m\u001b[0m \u001b[1m2s\u001b[0m 9ms/step - accuracy: 0.9321 - loss: 0.2398 - val_accuracy: 0.9986 - val_loss: 0.0155 - learning_rate: 0.0012\n",
            "Epoch 86/100\n",
            "\u001b[1m228/228\u001b[0m \u001b[32m━━━━━━━━━━━━━━━━━━━━\u001b[0m\u001b[37m\u001b[0m \u001b[1m2s\u001b[0m 9ms/step - accuracy: 0.9351 - loss: 0.2297 - val_accuracy: 0.9986 - val_loss: 0.0149 - learning_rate: 0.0012\n",
            "Epoch 87/100\n",
            "\u001b[1m228/228\u001b[0m \u001b[32m━━━━━━━━━━━━━━━━━━━━\u001b[0m\u001b[37m\u001b[0m \u001b[1m2s\u001b[0m 9ms/step - accuracy: 0.9298 - loss: 0.2438 - val_accuracy: 0.9982 - val_loss: 0.0144 - learning_rate: 0.0012\n",
            "Epoch 88/100\n",
            "\u001b[1m228/228\u001b[0m \u001b[32m━━━━━━━━━━━━━━━━━━━━\u001b[0m\u001b[37m\u001b[0m \u001b[1m2s\u001b[0m 10ms/step - accuracy: 0.9305 - loss: 0.2393 - val_accuracy: 0.9991 - val_loss: 0.0144 - learning_rate: 0.0012\n",
            "Epoch 89/100\n",
            "\u001b[1m228/228\u001b[0m \u001b[32m━━━━━━━━━━━━━━━━━━━━\u001b[0m\u001b[37m\u001b[0m \u001b[1m2s\u001b[0m 11ms/step - accuracy: 0.9328 - loss: 0.2299 - val_accuracy: 0.9991 - val_loss: 0.0141 - learning_rate: 0.0012\n",
            "Epoch 90/100\n",
            "\u001b[1m228/228\u001b[0m \u001b[32m━━━━━━━━━━━━━━━━━━━━\u001b[0m\u001b[37m\u001b[0m \u001b[1m2s\u001b[0m 9ms/step - accuracy: 0.9318 - loss: 0.2384 - val_accuracy: 0.9986 - val_loss: 0.0139 - learning_rate: 0.0012\n",
            "Epoch 91/100\n",
            "\u001b[1m228/228\u001b[0m \u001b[32m━━━━━━━━━━━━━━━━━━━━\u001b[0m\u001b[37m\u001b[0m \u001b[1m2s\u001b[0m 9ms/step - accuracy: 0.9325 - loss: 0.2305 - val_accuracy: 0.9991 - val_loss: 0.0135 - learning_rate: 0.0012\n",
            "Epoch 92/100\n",
            "\u001b[1m228/228\u001b[0m \u001b[32m━━━━━━━━━━━━━━━━━━━━\u001b[0m\u001b[37m\u001b[0m \u001b[1m2s\u001b[0m 9ms/step - accuracy: 0.9361 - loss: 0.2216 - val_accuracy: 0.9991 - val_loss: 0.0126 - learning_rate: 0.0012\n",
            "Epoch 93/100\n",
            "\u001b[1m228/228\u001b[0m \u001b[32m━━━━━━━━━━━━━━━━━━━━\u001b[0m\u001b[37m\u001b[0m \u001b[1m2s\u001b[0m 9ms/step - accuracy: 0.9342 - loss: 0.2278 - val_accuracy: 0.9986 - val_loss: 0.0130 - learning_rate: 0.0012\n",
            "Epoch 94/100\n",
            "\u001b[1m228/228\u001b[0m \u001b[32m━━━━━━━━━━━━━━━━━━━━\u001b[0m\u001b[37m\u001b[0m \u001b[1m3s\u001b[0m 11ms/step - accuracy: 0.9386 - loss: 0.2142 - val_accuracy: 0.9986 - val_loss: 0.0133 - learning_rate: 0.0012\n",
            "Epoch 95/100\n",
            "\u001b[1m228/228\u001b[0m \u001b[32m━━━━━━━━━━━━━━━━━━━━\u001b[0m\u001b[37m\u001b[0m \u001b[1m2s\u001b[0m 9ms/step - accuracy: 0.9390 - loss: 0.2133 - val_accuracy: 0.9986 - val_loss: 0.0121 - learning_rate: 6.2500e-04\n",
            "Epoch 96/100\n",
            "\u001b[1m228/228\u001b[0m \u001b[32m━━━━━━━━━━━━━━━━━━━━\u001b[0m\u001b[37m\u001b[0m \u001b[1m2s\u001b[0m 9ms/step - accuracy: 0.9385 - loss: 0.2074 - val_accuracy: 0.9991 - val_loss: 0.0113 - learning_rate: 6.2500e-04\n",
            "Epoch 97/100\n",
            "\u001b[1m228/228\u001b[0m \u001b[32m━━━━━━━━━━━━━━━━━━━━\u001b[0m\u001b[37m\u001b[0m \u001b[1m2s\u001b[0m 9ms/step - accuracy: 0.9445 - loss: 0.1997 - val_accuracy: 0.9991 - val_loss: 0.0107 - learning_rate: 6.2500e-04\n",
            "Epoch 98/100\n",
            "\u001b[1m228/228\u001b[0m \u001b[32m━━━━━━━━━━━━━━━━━━━━\u001b[0m\u001b[37m\u001b[0m \u001b[1m2s\u001b[0m 9ms/step - accuracy: 0.9466 - loss: 0.1965 - val_accuracy: 0.9991 - val_loss: 0.0106 - learning_rate: 6.2500e-04\n",
            "Epoch 99/100\n",
            "\u001b[1m228/228\u001b[0m \u001b[32m━━━━━━━━━━━━━━━━━━━━\u001b[0m\u001b[37m\u001b[0m \u001b[1m2s\u001b[0m 9ms/step - accuracy: 0.9472 - loss: 0.1884 - val_accuracy: 0.9991 - val_loss: 0.0105 - learning_rate: 6.2500e-04\n",
            "Epoch 100/100\n",
            "\u001b[1m228/228\u001b[0m \u001b[32m━━━━━━━━━━━━━━━━━━━━\u001b[0m\u001b[37m\u001b[0m \u001b[1m3s\u001b[0m 12ms/step - accuracy: 0.9422 - loss: 0.2011 - val_accuracy: 0.9991 - val_loss: 0.0104 - learning_rate: 6.2500e-04\n",
            "\u001b[1m69/69\u001b[0m \u001b[32m━━━━━━━━━━━━━━━━━━━━\u001b[0m\u001b[37m\u001b[0m \u001b[1m0s\u001b[0m 4ms/step - accuracy: 0.9996 - loss: 0.0098\n",
            "Validation Loss: 0.0104, Validation Accuracy: 0.9991\n"
          ]
        },
        {
          "data": {
            "text/plain": [
              "0"
            ]
          },
          "execution_count": 8,
          "metadata": {},
          "output_type": "execute_result"
        }
      ],
      "source": [
        "# Get best model and hyperparameters\n",
        "best_model = tuner.get_best_models(num_models=1)[0]\n",
        "best_hps = tuner.get_best_hyperparameters(num_trials=1)[0]\n",
        "\n",
        "print(\"Best hyperparameters found:\")\n",
        "for param in best_hps.values:\n",
        "    print(f\"{param}: {best_hps[param]}\")\n",
        "\n",
        "# Train the best model using the tf.data dataset\n",
        "history = best_model.fit(\n",
        "    dataset,\n",
        "    steps_per_epoch=steps_per_epoch,\n",
        "    epochs=100,\n",
        "    validation_data=(x_test, y_test),\n",
        "    callbacks=[early_stopping, lr_scheduler],\n",
        "    verbose=1\n",
        ")\n",
        "\n",
        "# Evaluate on test set\n",
        "loss, acc = best_model.evaluate(x_test, y_test)\n",
        "print(f\"Validation Loss: {loss:.4f}, Validation Accuracy: {acc:.4f}\")\n",
        "\n",
        "# Clean memory\n",
        "tf.keras.backend.clear_session()\n",
        "gc.collect()\n"
      ]
    },
    {
      "cell_type": "code",
      "execution_count": 9,
      "id": "Gkk6LLJEuEQl",
      "metadata": {
        "colab": {
          "base_uri": "https://localhost:8080/",
          "height": 927
        },
        "id": "Gkk6LLJEuEQl",
        "outputId": "44fbbda1-c8f1-4058-8cb8-5951fff79777"
      },
      "outputs": [
        {
          "data": {
            "image/png": "[encoded data removed]",
            "text/plain": [
              "<Figure size 640x480 with 1 Axes>"
            ]
          },
          "metadata": {},
          "output_type": "display_data"
        },
        {
          "data": {
            "image/png": "[encoded data removed]",
            "text/plain": [
              "<Figure size 640x480 with 1 Axes>"
            ]
          },
          "metadata": {},
          "output_type": "display_data"
        }
      ],
      "source": [
        "# Visualize Training Results\n",
        "import matplotlib.pyplot as plt\n",
        "\n",
        "# Plot accuracy\n",
        "plt.plot(history.history['accuracy'], label='train_accuracy')\n",
        "plt.plot(history.history['val_accuracy'], label='val_accuracy')\n",
        "plt.title('Model Accuracy')\n",
        "plt.ylabel('Accuracy')\n",
        "plt.xlabel('Epoch')\n",
        "plt.legend()\n",
        "plt.show()\n",
        "\n",
        "# Plot loss\n",
        "plt.plot(history.history['loss'], label='train_loss')\n",
        "plt.plot(history.history['val_loss'], label='val_loss')\n",
        "plt.title('Model Loss')\n",
        "plt.ylabel('Loss')\n",
        "plt.xlabel('Epoch')\n",
        "plt.legend()\n",
        "plt.show()"
      ]
    },
    {
      "cell_type": "code",
      "execution_count": 14,
      "id": "aAOSKDqyKi2D",
      "metadata": {
        "colab": {
          "base_uri": "https://localhost:8080/"
        },
        "id": "aAOSKDqyKi2D",
        "outputId": "d2b0efab-a52d-47e2-a78f-514ee878f487"
      },
      "outputs": [
        {
          "name": "stdout",
          "output_type": "stream",
          "text": [
            "Next word prediction: the\n"
          ]
        }
      ],
      "source": [
        "# Generate Text for Qualitative Evaluation\n",
        "def predict_next_word(model, tokenizer, seed_text):\n",
        "    token_list = tokenizer.texts_to_sequences([seed_text])[0]\n",
        "    token_list = pad_sequences([token_list], maxlen=window_size, padding='pre')\n",
        "    predicted = model.predict(token_list, verbose=0)\n",
        "    predicted_word_index = np.argmax(predicted, axis=1)[0]\n",
        "    return tokenizer.index_word.get(predicted_word_index, \"<OOV>\")\n",
        "\n",
        "# Test text generation\n",
        "seed_text = \"to be or not to be\"\n",
        "print(\"Next word prediction:\", predict_next_word(best_model, tokenizer, seed_text))"
      ]
    },
    {
      "cell_type": "code",
      "execution_count": 16,
      "id": "kMTzjOHuppe9",
      "metadata": {
        "colab": {
          "base_uri": "https://localhost:8080/"
        },
        "id": "kMTzjOHuppe9",
        "outputId": "807c6e63-a79e-48e5-ef0a-bfa7dde4a7f1"
      },
      "outputs": [
        {
          "name": "stdout",
          "output_type": "stream",
          "text": [
            "Sentence prediction: to be or not to be a father for loue the is the king marke his father lost his was\n"
          ]
        }
      ],
      "source": [
        "def generate_text_sequence(model, tokenizer, seed_text, num_words=10):\n",
        "    for _ in range(num_words):\n",
        "        token_list = tokenizer.texts_to_sequences([seed_text])[0]\n",
        "        token_list = pad_sequences([token_list], maxlen=window_size, padding='pre')\n",
        "        predicted = model.predict(token_list, verbose=0)\n",
        "        predicted_index = np.argmax(predicted, axis=1)[0]\n",
        "        output_word = tokenizer.index_word.get(predicted_index, \"<OOV>\")\n",
        "        seed_text += \" \" + output_word\n",
        "    return seed_text\n",
        "\n",
        "    seed_text = \"to be or not to be\"\n",
        "print(\"Sentence prediction:\", generate_text_sequence(best_model, tokenizer, seed_text))"
      ]
    },
    {
      "cell_type": "code",
      "execution_count": null,
      "id": "a0f12a41",
      "metadata": {},
      "outputs": [],
      "source": [
        "## Save the model\n",
        "best_model.save(\"next_word_lstm.h5\")\n",
        "## Save the tokenizer\n",
        "import pickle\n",
        "with open('tokenizer.pickle','wb') as handle:\n",
        "    pickle.dump(tokenizer,handle,protocol=pickle.HIGHEST_PROTOCOL)"
      ]
    }
  ],
  "metadata": {
    "accelerator": "GPU",
    "colab": {
      "gpuType": "T4",
      "provenance": []
    },
    "kernelspec": {
      "display_name": "Python 3",
      "name": "python3"
    },
    "language_info": {
      "name": "python",
      "version": "3.11.7"
    }
  },
  "nbformat": 4,
  "nbformat_minor": 5
}
